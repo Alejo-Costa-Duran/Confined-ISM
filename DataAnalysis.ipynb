{
 "cells": [
  {
   "cell_type": "code",
   "execution_count": 2,
   "metadata": {},
   "outputs": [],
   "source": [
    "import numpy as np\n",
    "import matplotlib.pyplot as plt\n",
    "import pandas as pd\n",
    "import glob\n",
    "import scipy.optimize as opt\n",
    "import scipy.stats as stats\n",
    "from tqdm import tqdm\n",
    "from scipy import signal\n",
    "import scipy.fft\n",
    "from scipy import stats\n",
    "\n",
    "plt.rcParams.update({\n",
    "    'text.usetex': False,\n",
    "    'font.family': 'serif',  # Use a serif font\n",
    "    'font.size': 10,         # Adjust the font size to match your LaTeX document\n",
    "})\n",
    "\n",
    "# For a two-column document, set the figure width to be within the column width\n",
    "column_width_pt = 246  # Adjust this based on your document's column width\n",
    "inches_per_pt = 1/72.27\n",
    "golden_ratio = (5**0.5 - 1) / 2  # Golden ratio to make the figure aesthetically pleasing\n",
    "\n",
    "fig_width = column_width_pt * inches_per_pt\n",
    "fig_height = fig_width * golden_ratio\n",
    "\n",
    "\n",
    "\n",
    "plt.style.use('default')\n",
    "params = {\"ytick.color\" : \"black\",\n",
    "          \"xtick.color\" : \"black\",\n",
    "          \"axes.labelcolor\" : \"black\",\n",
    "          \"axes.edgecolor\" : \"black\",\n",
    "          \"text.usetex\" : True,\n",
    "          \"font.family\" : \"serif\",\n",
    "          \"font.serif\" : [\"Computer Modern Serif\"],\n",
    "          \"lines.linewidth\" : 0.75,\n",
    "          'xtick.minor.width' : 0.5,\n",
    "          'xtick.major.width' : 0.5,\n",
    "          'ytick.minor.width' : 0.5,\n",
    "          'ytick.major.width' : 0.5,\n",
    "          'axes.spines.top' : False,\n",
    "          'axes.spines.right' : False,\n",
    "          'axes.linewidth' : 0.5}\n",
    "plt.rcParams.update(params)\n",
    "plt.rc('figure', figsize=(fig_width, fig_height))\n",
    "plt.rc('legend', frameon=False)"
   ]
  },
  {
   "cell_type": "code",
   "execution_count": 3,
   "metadata": {},
   "outputs": [],
   "source": [
    "def autoCorrelation(x, connected = True):\n",
    "  '''\n",
    "  Computes the self-correlation of the time series x(t) of a scalar variable. Averaging over initial values t_0. X is an N by M array which contains the N points\n",
    "  of M realizations of the time series. The N points are all spaced by a time Delta t so that t_i = i*Delta t\n",
    "  Connected: Is used to indicate if you want to compute the connected correlation or not. Set to True by default\n",
    "  method: Method that scipy uses to compute the correlation. Set to fast fourier transform by default.\n",
    "  '''\n",
    "  x = np.asarray(x)\n",
    "  (N,M) = np.shape(x)\n",
    "  fourierTransform2 = np.zeros((2*N,M),dtype=np.complex128)\n",
    "  if connected:\n",
    "    c = np.mean(x,axis=0)\n",
    "    for el in range(M):\n",
    "      x[:,el] = x[:,el] - c[el]\n",
    "  fourierTransform = scipy.fft.fft(x,2*N,axis=0)\n",
    "  corr = scipy.fft.ifft(np.power(np.abs(fourierTransform[:N,:]),2),2*N,axis=0)\n",
    "  factor = np.array([1/(N-i+1) for i in range(1,N+1)])\n",
    "  corr = corr[:N,:]\n",
    "  for n in range(M):\n",
    "    corr[:,n] = corr[:,n]*factor\n",
    "  return np.mean(np.real(corr),axis=1)\n",
    "\n",
    "def integralCorrTime(corr,alpha):\n",
    "  '''\n",
    "    Computes the integral correlation time tau of a correlation corr (normalized and connected). Corr is a 1D array of N elements. The integral correlation time is computed\n",
    "    using the equation tau = int_0^(alpha tau) c(t)dt. Usually alpha = 3 is enough but it can be computed as a function of alpha\n",
    "    corr: Connected and normalized correlation function\n",
    "    alpha: Upper bound for the integral\n",
    "  '''\n",
    "  for M in range(1,len(corr)):\n",
    "    sum = np.sum(corr[:(M+1)]/corr[0])\n",
    "    if alpha*sum < M:\n",
    "      return sum\n",
    "  raise Exception(\"No suitable value found\")\n",
    "\n",
    "\n",
    "def corrTime(x,t,tau):\n",
    "  f = np.sum((x*np.sinc(t/(np.pi*tau))/tau))*0.025-np.pi/4\n",
    "  return f\n",
    "\n",
    "def CorrT0(x,t0, connected = False):\n",
    "  if connected:\n",
    "    mean = np.mean(x)\n",
    "    delX = x-mean\n",
    "  else:\n",
    "    delX = x\n",
    "  corr = delX[t0]*delX[t0:]\n",
    "  return corr"
   ]
  },
  {
   "cell_type": "code",
   "execution_count": 4,
   "metadata": {},
   "outputs": [],
   "source": [
    "root_dir = \"../ConfinedDataReferee\"\n",
    "extFieldIsmData_dir = root_dir+\"/ExternalFieldISM_Data\"\n",
    "infoIsm_File = root_dir +\"/ExtFieldISM_Info.csv\"\n",
    "extFieldISMProcessedData_dir = root_dir + \"/ExtFieldISM_ProcessedData\"\n",
    "extFieldISMImages_dir = root_dir+\"/ExtFieldISM_Images\"\n",
    "\n",
    "def filesFromIndex(idx):\n",
    "    idxString = f'{idx:03d}'+'.csv'\n",
    "    return (extFieldIsmData_dir+\"/Pos\"+idxString,extFieldIsmData_dir+\"/Vel\"+idxString,extFieldIsmData_dir+\"/Spin\"+idxString)\n",
    "\n",
    "extFieldISM_Info = pd.read_csv(infoIsm_File)\n",
    "fields = extFieldISM_Info.Field.unique()\n",
    "inertias = extFieldISM_Info.Inertia.unique()\n",
    "indicesPerField = []\n",
    "for f in fields:\n",
    "    indicesPerField.append(list(extFieldISM_Info[extFieldISM_Info.Field == f].index))"
   ]
  },
  {
   "cell_type": "code",
   "execution_count": 5,
   "metadata": {},
   "outputs": [],
   "source": [
    "try:\n",
    "    autoCorrelationPos = np.load(extFieldISMProcessedData_dir+\"/autoCorrelationPos.npy\")\n",
    "    autoCorrelationVel = np.load(extFieldISMProcessedData_dir+\"/autoCorrelationVel.npy\")\n",
    "    autoCorrelationSpin = np.load(extFieldISMProcessedData_dir+\"/autoCorrelationSpin.npy\")\n",
    "except FileNotFoundError:\n",
    "    autoCorrelationPos = np.zeros((int(600000/25)-3000,len(inertias),len(fields)))\n",
    "    autoCorrelationVel = np.zeros((int(600000/25)-3000,len(inertias),len(fields)))\n",
    "    autoCorrelationSpin = np.zeros((int(600000/25)-3000,len(inertias),len(fields)))\n",
    "    for chi in range(len(inertias)):\n",
    "        print(chi)\n",
    "        for f in range(len(fields)):\n",
    "            files = filesFromIndex(indicesPerField[f][chi])\n",
    "            posTimeSeries = np.loadtxt(files[0],delimiter =',', skiprows = 1)\n",
    "            xSeries = posTimeSeries[3000:,::2]\n",
    "            ySeries = posTimeSeries[3000:,1::2]\n",
    "            autoCorrelationPos[:,chi,f] = autoCorrelation(xSeries)+autoCorrelation(ySeries)\n",
    "\n",
    "            velTimeSeries = np.loadtxt(files[1],delimiter=',',skiprows = 1)\n",
    "            velxSeries = velTimeSeries[3000:,::2]\n",
    "            velySeries = velTimeSeries[3000:,1::2]\n",
    "            autoCorrelationVel[:,chi,f] = autoCorrelation(velxSeries)+autoCorrelation(velySeries)\n",
    "\n",
    "            spinTimeSeries = np.loadtxt(files[2],delimiter = ',',skiprows = 1)\n",
    "            autoCorrelationSpin[:,chi,f] = autoCorrelation(spinTimeSeries[3000:,:])\n",
    "    np.save(extFieldISMProcessedData_dir+\"/autoCorrelationPos.npy\",autoCorrelationPos)\n",
    "    np.save(extFieldISMProcessedData_dir+\"/autoCorrelationVel.npy\",autoCorrelationVel)\n",
    "    np.save(extFieldISMProcessedData_dir+\"/autoCorrelationSpin.npy\",autoCorrelationSpin)\n",
    "\n",
    "try:\n",
    "    msdIsm = np.load(extFieldISMProcessedData_dir+\"/msdISM.npy\")\n",
    "    radiisIsm = np.load(extFieldISMProcessedData_dir+\"/radiisISM.npy\")\n",
    "    dsqIsm = np.load(extFieldISMProcessedData_dir+\"/dsqISM.npy\")\n",
    "\n",
    "except FileNotFoundError:\n",
    "    msdIsm = np.zeros((int(600000/25)-3000,len(inertias),len(fields)))\n",
    "    radiisIsm = np.zeros((int(600000/25),len(inertias),len(fields)))\n",
    "    dsqIsm = np.zeros((len(inertias),len(fields)))\n",
    "    for nfield in range(len(fields)):\n",
    "        print(nfield)\n",
    "        for idx in range(15):\n",
    "            filePos = filesFromIndex(indicesPerField[nfield][idx])[0]\n",
    "            timeSeries = np.loadtxt(filePos,delimiter = ',', skiprows = 1)\n",
    "            posX = timeSeries[:,::2]\n",
    "            posY = timeSeries[:,1::2]\n",
    "            r0 = np.sqrt(np.power(posX,2)+np.power(posY,2))\n",
    "            radiisIsm[:,idx,nfield] = np.mean(r0,axis = 1) \n",
    "            delPosX = posX[3000:,:]-posX[3000,:]\n",
    "            delPosY = posY[3000:,:]-posY[3000,:]\n",
    "            msdIsm[:,idx,nfield] = np.mean(np.power(delPosX,2)+np.power(delPosY,2),axis = 1)\n",
    "            dsqIsm[idx,nfield] = np.mean(msdIsm[5000:,idx,nfield], axis= 0)\n",
    "    np.save(extFieldISMProcessedData_dir+\"/msdISM.npy\",msdIsm)\n",
    "    np.save(extFieldISMProcessedData_dir+\"/radiisISM.npy\",radiisIsm)\n",
    "    np.save(extFieldISMProcessedData_dir+\"/dsqISM.npy\",dsqIsm)\n"
   ]
  },
  {
   "cell_type": "code",
   "execution_count": 6,
   "metadata": {},
   "outputs": [],
   "source": [
    "valid_fields = [i for i in range(4,len(fields))]\n",
    "valid_inertias = [i for i in range(len(inertias)-1)]"
   ]
  },
  {
   "cell_type": "markdown",
   "metadata": {},
   "source": [
    "## Mean Squared Distance"
   ]
  },
  {
   "cell_type": "code",
   "execution_count": 12,
   "metadata": {},
   "outputs": [
    {
     "data": {
      "text/plain": [
       "Text(0, 0.5, '$\\\\left< d^2\\\\right>$')"
      ]
     },
     "execution_count": 12,
     "metadata": {},
     "output_type": "execute_result"
    },
    {
     "data": {
      "image/png": "[encoded data removed]",
      "text/plain": [
       "<Figure size 340.39x210.373 with 1 Axes>"
      ]
     },
     "metadata": {},
     "output_type": "display_data"
    },
    {
     "data": {
      "image/png": "[encoded data removed]",
      "text/plain": [
       "<Figure size 340.39x210.373 with 1 Axes>"
      ]
     },
     "metadata": {},
     "output_type": "display_data"
    }
   ],
   "source": [
    "plt.figure(1)\n",
    "for nField in valid_fields[2::3]:\n",
    "    slope, intercept, *_ = stats.linregress(inertias[valid_inertias],dsqIsm[valid_inertias,nField])\n",
    "    plt.plot(inertias[valid_inertias],np.array(inertias[valid_inertias])*slope+intercept)\n",
    "    plt.plot(inertias[valid_inertias],dsqIsm[valid_inertias,nField],'x-',label = 'Field = '+str(fields[nField]))\n",
    "plt.legend()\n",
    "plt.xlabel(r'$\\Omega$')\n",
    "plt.ylabel(r'$\\left< d^2\\right>$')\n",
    "#plt.savefig(extFieldISMImages_dir+\"/figdsq.png\",format ='png',dpi = 1000, bbox_inches = 'tight',pad_inches= 0.03)\n",
    "\n",
    "plt.figure(2)\n",
    "for nChi in valid_inertias[2::3]:\n",
    "    plt.plot(fields[valid_fields],dsqIsm[nChi,valid_fields],'x-',label = r'$\\Omega$ = '+str(inertias[nChi]))\n",
    "plt.legend()\n",
    "plt.xlabel(r'$k_0$')\n",
    "plt.ylabel(r'$\\left< d^2\\right>$')\n",
    "#plt.savefig(extFieldISMImages_dir+\"/figdsqFields.png\",format ='png',dpi = 1000, bbox_inches = 'tight',pad_inches= 0.03)\n",
    "\n",
    "\n"
   ]
  },
  {
   "cell_type": "markdown",
   "metadata": {},
   "source": [
    "## Correlation times"
   ]
  },
  {
   "cell_type": "code",
   "execution_count": null,
   "metadata": {},
   "outputs": [],
   "source": []
  }
 ],
 "metadata": {
  "kernelspec": {
   "display_name": "Python 3",
   "language": "python",
   "name": "python3"
  },
  "language_info": {
   "codemirror_mode": {
    "name": "ipython",
    "version": 3
   },
   "file_extension": ".py",
   "mimetype": "text/x-python",
   "name": "python",
   "nbconvert_exporter": "python",
   "pygments_lexer": "ipython3",
   "version": "3.10.12"
  }
 },
 "nbformat": 4,
 "nbformat_minor": 2
}
